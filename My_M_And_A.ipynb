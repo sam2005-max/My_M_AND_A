{
  "nbformat": 4,
  "nbformat_minor": 0,
  "metadata": {
    "colab": {
      "provenance": [],
      "collapsed_sections": [],
      "authorship_tag": "ABX9TyN2RjYiZ+GHKedvEGmgXuN5",
      "include_colab_link": true
    },
    "kernelspec": {
      "name": "python3",
      "display_name": "Python 3"
    },
    "language_info": {
      "name": "python"
    }
  },
  "cells": [
    {
      "cell_type": "markdown",
      "metadata": {
        "id": "view-in-github",
        "colab_type": "text"
      },
      "source": [
        "<a href=\"https://colab.research.google.com/github/sam2005-max/My_M_AND_A/blob/main/My_M_And_A.ipynb\" target=\"_parent\"><img src=\"https://colab.research.google.com/assets/colab-badge.svg\" alt=\"Open In Colab\"/></a>"
      ]
    },
    {
      "cell_type": "code",
      "execution_count": 6,
      "metadata": {
        "id": "tWSYiEBJsVOc"
      },
      "outputs": [],
      "source": [
        "import pandas as pd\n"
      ]
    },
    {
      "cell_type": "code",
      "source": [
        "#CSV files\n",
        "data_1 = pd.read_csv(\"/content/sample_data/only_wood_customer_us_1 (7).csv\")\n",
        "data_2 = pd.read_csv(\"/content/sample_data/only_wood_customer_us_2 (8).csv\", sep=';')\n",
        "data_3 = pd.read_csv(\"/content/sample_data/only_wood_customer_us_3 (6).csv\",sep='\\t|,')\n",
        "#data cleaning 1\n",
        "a = data_1.replace(\"0\", \"Male\")\n",
        "b = a.replace(\"1\", \"Female\")\n",
        "c = b.replace(\"M\", \"Male\")\n",
        "data_1 = c.replace(\"F\", \"Female\")\n",
        "dname = pd.unique(data_1.Gender)\n",
        "data_1['FirstName'] = data_1['FirstName'].replace(r'\\W', '', regex=True)\n",
        "data_1['FirstName'] = data_1['FirstName'].str.title()\n",
        "data_1['LastName'] = data_1['LastName'].replace(r'\\W', '', regex=True)\n",
        "data_1['LastName'] = data_1['LastName'].str.title()\n",
        "data_1['Email'] = data_1['Email'].str.lower()\n",
        "data_1['City'] = data_1['City'].str.replace('_', '-')\n",
        "data_1['City'] = data_1['City'].str.title()\n",
        "data_1['Country'] = 'USA'\n",
        "#Data cleaning 2\n",
        "data_2.rename(columns = {'51' : 'Age', 'austin' : 'City', '1':'Gender', 'lorette kutch': 'Name', 'Kutch.lorette@gmail.com': 'Email'}, inplace = True)\n",
        "data_2.loc[-1] = [\"51\",\"austin\" , \"1\", \"lorette kutch\", \"Kutch.lorette@gmail.com\"] \n",
        "data_2.index = data_2.index + 1\n",
        "data_2 = data_2.sort_index()\n",
        "data_2 = data_2.drop(labels=1)\n",
        "data_2.Age = data_2.Age.str.replace(r'\\D', '',  regex=True)\n",
        "a = data_2.replace(\"0\", \"Male\")\n",
        "b = a.replace(\"1\", \"Female\")\n",
        "c = b.replace(\"M\", \"Male\")\n",
        "data_2 = c.replace(\"F\", \"Female\")\n",
        "data_2 = data_2.replace(r'_|-|\"\"|\"|\\\\|', '', regex=True)\n",
        "data_2['City'] = data_2['City'].str.title()\n",
        "data_2['Name'] = data_2['Name'].str.title()\n",
        "data_2.dropna(inplace = True)\n",
        "new = data_2[\"Name\"].str.split(\" \", n = 1, expand = True)\n",
        "data_2[\"FirstName\"]= new[0]\n",
        "data_2[\"LastName\"]= new[1]\n",
        "data_2.drop(columns =[\"Name\"], inplace = True)\n",
        "data_2['Email'] = data_2['Email'].str.lower()\n",
        "#Data cleaning 1\n",
        "data_3 = data_3.replace(r'string_|boolean_|character_|integer_|\"|-|_', '', regex=True)\n",
        "data_3['Name'] = data_3['Name'].str.title()\n",
        "a = data_3.replace(\"0\", \"Male\")\n",
        "b = a.replace(\"1\", \"Female\")\n",
        "c = b.replace(\"M\", \"Male\")\n",
        "data_3 = c.replace(\"F\", \"Female\")\n",
        "data_3.dropna(inplace = True)\n",
        "new = data_3[\"Name\"].str.split(\" \", n = 1, expand = True)\n",
        "data_3[\"FirstName\"]= new[0]\n",
        "data_3[\"LastName\"]= new[1]\n",
        "data_3.drop(columns =[\"Name\"], inplace = True)\n",
        "data_3['Email'] = data_3['Email'].str.lower()\n",
        "data_3.Age = data_3.Age.str.replace(r'\\D', '',  regex=True)\n",
        "data_3['City'] = data_3['City'].str.title()\n",
        "data_3['Country'] = 'USA'\n",
        "data_1 = data_1.append(data_2).append(data_3)\n",
        "data_1\n",
        "\n",
        "\n"
      ],
      "metadata": {
        "id": "RKLND6USa_To",
        "colab": {
          "base_uri": "https://localhost:8080/"
        },
        "outputId": "14daa062-03d5-4a26-f53c-96d0e820e299"
      },
      "execution_count": 7,
      "outputs": [
        {
          "output_type": "stream",
          "name": "stderr",
          "text": [
            "/usr/local/lib/python3.7/dist-packages/pandas/util/_decorators.py:311: ParserWarning: Falling back to the 'python' engine because the 'c' engine does not support regex separators (separators > 1 char and different from '\\s+' are interpreted as regex); you can avoid this warning by specifying engine='python'.\n",
            "  return func(*args, **kwargs)\n"
          ]
        }
      ]
    }
  ]
}